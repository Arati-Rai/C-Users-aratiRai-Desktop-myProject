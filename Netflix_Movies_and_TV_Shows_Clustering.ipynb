{
  "nbformat": 4,
  "nbformat_minor": 0,
  "metadata": {
    "colab": {
      "private_outputs": true,
      "provenance": [],
      "collapsed_sections": [
        "vncDsAP0Gaoa",
        "FJNUwmbgGyua",
        "w6K7xa23Elo4",
        "yQaldy8SH6Dl",
        "mDgbUHAGgjLW",
        "H0kj-8xxnORC",
        "K5QZ13OEpz2H",
        "lQ7QKXXCp7Bj",
        "448CDAPjqfQr",
        "t6dVpIINYklI",
        "ijmpgYnKYklI",
        "-JiQyfWJYklI",
        "fge-S5ZAYoAp",
        "85gYPyotYoAp",
        "iky9q4vBYrdO",
        "F6T5p64dYrdO",
        "y-Ehk30pYrdP",
        "QHF8YVU7Yuh3",
        "GwzvFGzlYuh3",
        "qYpmQ266Yuh3",
        "OH-pJp9IphqM",
        "bbFf2-_FphqN",
        "_ouA3fa0phqN",
        "Seke61FWphqN",
        "PIIx-8_IphqN",
        "t27r6nlMphqO",
        "r2jJGEOYphqO",
        "b0JNsNcRphqO",
        "BZR9WyysphqO",
        "jj7wYXLtphqO",
        "eZrbJ2SmphqO",
        "rFu4xreNphqO",
        "YJ55k-q6phqO",
        "gCFgpxoyphqP",
        "OVtJsKN_phqQ",
        "lssrdh5qphqQ",
        "U2RJ9gkRphqQ",
        "1M8mcRywphqQ",
        "tgIPom80phqQ",
        "JMzcOPDDphqR",
        "x-EpHcCOp1ci",
        "X_VqEhTip1ck",
        "8zGJKyg5p1ck",
        "PVzmfK_Ep1ck",
        "n3dbpmDWp1ck",
        "ylSl6qgtp1ck",
        "ZWILFDl5p1ck",
        "M7G43BXep1ck",
        "Ag9LCva-p1cl",
        "E6MkPsBcp1cl",
        "2cELzS2fp1cl",
        "3MPXvC8up1cl",
        "NC_X3p0fY2L0",
        "UV0SzAkaZNRQ",
        "YPEH6qLeZNRQ",
        "q29F0dvdveiT",
        "EXh0U9oCveiU",
        "22aHeOlLveiV",
        "Ou-I18pAyIpj",
        "yiiVWRdJDDil",
        "bmKjuQ-FpsJ3",
        "Fze-IPXLpx6K",
        "7AN1z2sKpx6M",
        "9PIHJqyupx6M",
        "_-qAgymDpx6N",
        "Z-hykwinpx6N",
        "h_CCil-SKHpo",
        "cBFFvTBNJzUa",
        "HvGl1hHyA_VK",
        "EyNgTHvd2WFk",
        "KH5McJBi2d8v",
        "iW_Lq9qf2h6X",
        "-Kee-DAl2viO",
        "gIfDvo9L0UH2"
      ],
      "include_colab_link": true
    },
    "kernelspec": {
      "name": "python3",
      "display_name": "Python 3"
    },
    "language_info": {
      "name": "python"
    }
  },
  "cells": [
    {
      "cell_type": "markdown",
      "metadata": {
        "id": "view-in-github",
        "colab_type": "text"
      },
      "source": [
        "<a href=\"https://colab.research.google.com/github/Arati-Rai/C-Users-aratiRai-Desktop-myProject/blob/main/Netflix_Movies_and_TV_Shows_Clustering.ipynb\" target=\"_parent\"><img src=\"https://colab.research.google.com/assets/colab-badge.svg\" alt=\"Open In Colab\"/></a>"
      ]
    },
    {
      "cell_type": "markdown",
      "source": [
        "# **Project Name**    - Netflix Movies and TV Shows Clustering\n",
        "\n"
      ],
      "metadata": {
        "id": "vncDsAP0Gaoa"
      }
    },
    {
      "cell_type": "markdown",
      "source": [
        "##### **Project Type**    - EDA/Regression/Classification/Unsupervised\n",
        "##### **Contribution**    - Individual/Team\n",
        "##### **Team Member 1 -** Arati Rai\n",
        "##### **Team Member 2 -**\n",
        "##### **Team Member 3 -**\n",
        "##### **Team Member 4 -**"
      ],
      "metadata": {
        "id": "beRrZCGUAJYm"
      }
    },
    {
      "cell_type": "markdown",
      "source": [
        "# **Project Summary -**\n",
        "\n",
        "This dataset consists of tv shows and movies available on Netflix as of 2019. The dataset is collected from Flixable which is a third-party Netflix search engine. In 2018, they released an interesting report which shows that the number of TV shows on Netf:lix has nearly tripled since 2010. The streaming service’s number of movies has decreased by more than 2,000 titles since 2010, while its number of TV shows has nearly tripled. It will be interesting to explore what all other insights can be obtained from the same dataset."
      ],
      "metadata": {
        "id": "FJNUwmbgGyua"
      }
    },
    {
      "cell_type": "markdown",
      "source": [
        "Write the summary here within 500-600 words."
      ],
      "metadata": {
        "id": "F6v_1wHtG2nS"
      }
    },
    {
      "cell_type": "markdown",
      "source": [
        "# **GitHub Link -**"
      ],
      "metadata": {
        "id": "w6K7xa23Elo4"
      }
    },
    {
      "cell_type": "markdown",
      "source": [
        "Provide your GitHub Link here."
      ],
      "metadata": {
        "id": "h1o69JH3Eqqn"
      }
    },
    {
      "cell_type": "markdown",
      "source": [
        "# **Problem Statement**\n",
        "\n"
      ],
      "metadata": {
        "id": "yQaldy8SH6Dl"
      }
    },
    {
      "cell_type": "markdown",
      "source": [
        "**Write Problem Statement Here.**\n",
        "\n",
        "Exploratory Data Analysis.\n",
        "Understanding what type content is available in different countries.\n",
        "If Netflix has been increasingly focusing on TV rather than movies in recent years.\n",
        "Clustering similar content by matching text-based features."
      ],
      "metadata": {
        "id": "DpeJGUA3kjGy"
      }
    },
    {
      "cell_type": "markdown",
      "source": [
        "# **General Guidelines** : -   "
      ],
      "metadata": {
        "id": "mDgbUHAGgjLW"
      }
    },
    {
      "cell_type": "markdown",
      "source": [
        "1.   Well-structured, formatted, and commented code is required.\n",
        "2.   Exception Handling, Production Grade Code & Deployment Ready Code will be a plus. Those students will be awarded some additional credits.\n",
        "     \n",
        "     The additional credits will have advantages over other students during Star Student selection.\n",
        "       \n",
        "             [ Note: - Deployment Ready Code is defined as, the whole .ipynb notebook should be executable in one go\n",
        "                       without a single error logged. ]\n",
        "\n",
        "3.   Each and every logic should have proper comments.\n",
        "4. You may add as many number of charts you want. Make Sure for each and every chart the following format should be answered.\n",
        "        \n",
        "\n",
        "```\n",
        "# Chart visualization code\n",
        "```\n",
        "            \n",
        "\n",
        "*   Why did you pick the specific chart?\n",
        "*   What is/are the insight(s) found from the chart?\n",
        "* Will the gained insights help creating a positive business impact?\n",
        "Are there any insights that lead to negative growth? Justify with specific reason.\n",
        "\n",
        "5. You have to create at least 15 logical & meaningful charts having important insights.\n",
        "\n",
        "\n",
        "[ Hints : - Do the Vizualization in  a structured way while following \"UBM\" Rule.\n",
        "\n",
        "U - Univariate Analysis,\n",
        "\n",
        "B - Bivariate Analysis (Numerical - Categorical, Numerical - Numerical, Categorical - Categorical)\n",
        "\n",
        "M - Multivariate Analysis\n",
        " ]\n",
        "\n",
        "\n",
        "\n",
        "\n",
        "\n",
        "6. You may add more ml algorithms for model creation. Make sure for each and every algorithm, the following format should be answered.\n",
        "\n",
        "\n",
        "*   Explain the ML Model used and it's performance using Evaluation metric Score Chart.\n",
        "\n",
        "\n",
        "*   Cross- Validation & Hyperparameter Tuning\n",
        "\n",
        "*   Have you seen any improvement? Note down the improvement with updates Evaluation metric Score Chart.\n",
        "\n",
        "*   Explain each evaluation metric's indication towards business and the business impact pf the ML model used.\n",
        "\n",
        "\n",
        "\n",
        "\n",
        "\n",
        "\n",
        "\n",
        "\n",
        "\n",
        "\n",
        "\n",
        "\n",
        "\n",
        "\n",
        "\n",
        "\n",
        "\n",
        "\n"
      ],
      "metadata": {
        "id": "ZrxVaUj-hHfC"
      }
    },
    {
      "cell_type": "markdown",
      "source": [
        "# ***Let's Begin !***"
      ],
      "metadata": {
        "id": "O_i_v8NEhb9l"
      }
    },
    {
      "cell_type": "markdown",
      "source": [
        "## ***1. Know Your Data***"
      ],
      "metadata": {
        "id": "HhfV-JJviCcP"
      }
    },
    {
      "cell_type": "markdown",
      "source": [
        "### Import Libraries"
      ],
      "metadata": {
        "id": "Y3lxredqlCYt"
      }
    },
    {
      "cell_type": "code",
      "source": [
        "# Import Libraries\n",
        "import numpy as np\n",
        "import pandas as pd\n",
        "import matplotlib.pyplot as plt\n",
        "import seaborn as sns\n",
        "from sklearn.model_selection import train_test_split\n",
        "from scipy import stats"
      ],
      "metadata": {
        "id": "M8Vqi-pPk-HR"
      },
      "execution_count": null,
      "outputs": []
    },
    {
      "cell_type": "markdown",
      "source": [
        "### Dataset Loading"
      ],
      "metadata": {
        "id": "3RnN4peoiCZX"
      }
    },
    {
      "cell_type": "code",
      "source": [
        "# Load Dataset\n",
        "from google.colab import drive\n",
        "drive.mount('/content/drive')\n"
      ],
      "metadata": {
        "id": "4CkvbW_SlZ_R"
      },
      "execution_count": null,
      "outputs": []
    },
    {
      "cell_type": "code",
      "source": [
        "\n",
        "file_path = '/content/NETFLIX MOVIES AND TV SHOWS CLUSTERING.csv'"
      ],
      "metadata": {
        "id": "Uo5DWOtpW4D-"
      },
      "execution_count": null,
      "outputs": []
    },
    {
      "cell_type": "code",
      "source": [
        "netflix_df = pd.read_csv(file_path)"
      ],
      "metadata": {
        "id": "pXGNkuPdC9Xw"
      },
      "execution_count": null,
      "outputs": []
    },
    {
      "cell_type": "markdown",
      "source": [
        "### Dataset First View"
      ],
      "metadata": {
        "id": "x71ZqKXriCWQ"
      }
    },
    {
      "cell_type": "code",
      "source": [
        "# Dataset First Look\n",
        "netflix_df.head()"
      ],
      "metadata": {
        "id": "LWNFOSvLl09H"
      },
      "execution_count": null,
      "outputs": []
    },
    {
      "cell_type": "markdown",
      "source": [
        "### Dataset Rows & Columns count"
      ],
      "metadata": {
        "id": "7hBIi_osiCS2"
      }
    },
    {
      "cell_type": "code",
      "source": [
        "# Dataset Rows & Columns count\n",
        "netflix_df"
      ],
      "metadata": {
        "id": "Kllu7SJgmLij"
      },
      "execution_count": null,
      "outputs": []
    },
    {
      "cell_type": "markdown",
      "source": [
        "### Dataset Information"
      ],
      "metadata": {
        "id": "JlHwYmJAmNHm"
      }
    },
    {
      "cell_type": "code",
      "source": [
        "# Dataset Info\n",
        "netflix_df.info()"
      ],
      "metadata": {
        "id": "e9hRXRi6meOf"
      },
      "execution_count": null,
      "outputs": []
    },
    {
      "cell_type": "markdown",
      "source": [
        "#### Duplicate Values"
      ],
      "metadata": {
        "id": "35m5QtbWiB9F"
      }
    },
    {
      "cell_type": "code",
      "source": [
        "# Dataset Duplicate Value Count\n",
        "netflix_df.duplicated().sum()"
      ],
      "metadata": {
        "id": "1sLdpKYkmox0"
      },
      "execution_count": null,
      "outputs": []
    },
    {
      "cell_type": "markdown",
      "source": [
        "#### Missing Values/Null Values"
      ],
      "metadata": {
        "id": "PoPl-ycgm1ru"
      }
    },
    {
      "cell_type": "code",
      "source": [
        "# Missing Values/Null Values Count\n",
        "netflix_df.isna().sum()"
      ],
      "metadata": {
        "id": "GgHWkxvamxVg"
      },
      "execution_count": null,
      "outputs": []
    },
    {
      "cell_type": "code",
      "source": [
        "# Visualizing the missing values\n",
        "plt.figure(figsize=(10,6))\n",
        "sns.heatmap(netflix_df.isnull(),cbar=False,cmap='viridis')\n",
        "plt.title('Missing values in Dataset')\n",
        "plt.show()"
      ],
      "metadata": {
        "id": "3q5wnI3om9sJ"
      },
      "execution_count": null,
      "outputs": []
    },
    {
      "cell_type": "markdown",
      "source": [
        "### What did you know about your dataset?"
      ],
      "metadata": {
        "id": "H0kj-8xxnORC"
      }
    },
    {
      "cell_type": "markdown",
      "source": [
        "Answer Here\n",
        "###In this data frame ,it has  total 7787 rows and 12 columns.It dosen't contain duplicates and has contain  a null values."
      ],
      "metadata": {
        "id": "gfoNAAC-nUe_"
      }
    },
    {
      "cell_type": "markdown",
      "source": [
        "## ***2. Understanding Your Variables***"
      ],
      "metadata": {
        "id": "nA9Y7ga8ng1Z"
      }
    },
    {
      "cell_type": "code",
      "source": [
        "# Dataset Columns\n",
        "netflix_df.columns"
      ],
      "metadata": {
        "id": "j7xfkqrt5Ag5"
      },
      "execution_count": null,
      "outputs": []
    },
    {
      "cell_type": "code",
      "source": [
        "# Dataset Describe\n",
        "netflix_df.describe()"
      ],
      "metadata": {
        "id": "DnOaZdaE5Q5t"
      },
      "execution_count": null,
      "outputs": []
    },
    {
      "cell_type": "markdown",
      "source": [
        "### Variables Description"
      ],
      "metadata": {
        "id": "PBTbrJXOngz2"
      }
    },
    {
      "cell_type": "markdown",
      "source": [
        "Answer Here"
      ],
      "metadata": {
        "id": "aJV4KIxSnxay"
      }
    },
    {
      "cell_type": "markdown",
      "source": [
        "### Check Unique Values for each variable."
      ],
      "metadata": {
        "id": "u3PMJOP6ngxN"
      }
    },
    {
      "cell_type": "code",
      "source": [
        "# Check Unique Values for each variable.\n",
        "for column in netflix_df.columns:\n",
        "  unique_values = netflix_df[column].unique()\n",
        "print(f\"column:{column}, unique_values:{unique_values}\")"
      ],
      "metadata": {
        "id": "zms12Yq5n-jE"
      },
      "execution_count": null,
      "outputs": []
    },
    {
      "cell_type": "markdown",
      "source": [
        "## 3. ***Data Wrangling***"
      ],
      "metadata": {
        "id": "dauF4eBmngu3"
      }
    },
    {
      "cell_type": "markdown",
      "source": [
        "\n",
        "### Data Wrangling Code"
      ],
      "metadata": {
        "id": "bKJF3rekwFvQ"
      }
    },
    {
      "cell_type": "code",
      "source": [
        "# Write your code to make your dataset analysis ready.\n",
        "#Dropping rows with any null values\n",
        "netflix_df.dropna(inplace=True)"
      ],
      "metadata": {
        "id": "wk-9a2fpoLcV"
      },
      "execution_count": null,
      "outputs": []
    },
    {
      "cell_type": "code",
      "source": [
        "netflix_df.isna().sum()"
      ],
      "metadata": {
        "id": "FW7iizhKNFep"
      },
      "execution_count": null,
      "outputs": []
    },
    {
      "cell_type": "code",
      "source": [
        "\n",
        "#Convert data types\n",
        "netflix_df['date_added'] = pd.to_datetime(netflix_df['date_added'], errors='coerce')"
      ],
      "metadata": {
        "id": "UuVg5bciN7RR"
      },
      "execution_count": null,
      "outputs": []
    },
    {
      "cell_type": "code",
      "source": [
        "netflix_df.info()"
      ],
      "metadata": {
        "id": "W0mdXdu-ODkn"
      },
      "execution_count": null,
      "outputs": []
    },
    {
      "cell_type": "code",
      "source": [
        "# Encode categorical variables\n",
        "encoded_df = pd.get_dummies(netflix_df, columns=['type'])  # Perform one-hot encoding on categorical variables\n"
      ],
      "metadata": {
        "id": "J3Q8wyUfOOk4"
      },
      "execution_count": null,
      "outputs": []
    },
    {
      "cell_type": "code",
      "source": [
        "encoded_df.head()"
      ],
      "metadata": {
        "id": "pejFGVV9OTi9"
      },
      "execution_count": null,
      "outputs": []
    },
    {
      "cell_type": "code",
      "source": [
        "encoded_df.info()"
      ],
      "metadata": {
        "id": "5pK7Y5PnPUZ7"
      },
      "execution_count": null,
      "outputs": []
    },
    {
      "cell_type": "code",
      "source": [
        "# Convert the 'duration' column to strings if it's not already in string format\n",
        "netflix_df['duration'] = netflix_df['duration'].astype(str)\n",
        "\n",
        "# Remove non-numeric characters and convert to numeric data type\n",
        "netflix_df['duration_min'] = netflix_df['duration'].apply(lambda x: int(x.split()[0]) if 'min' in x else None)"
      ],
      "metadata": {
        "id": "W7rrCMOaPdhY"
      },
      "execution_count": null,
      "outputs": []
    },
    {
      "cell_type": "code",
      "source": [
        "\n",
        "netflix_df.head()"
      ],
      "metadata": {
        "id": "YUWEAESSPkln"
      },
      "execution_count": null,
      "outputs": []
    },
    {
      "cell_type": "code",
      "source": [
        "netflix_df.isnull().sum()"
      ],
      "metadata": {
        "id": "r1M3dog0Pu4X"
      },
      "execution_count": null,
      "outputs": []
    },
    {
      "cell_type": "code",
      "source": [
        "netflix_df.dropna(inplace=True)"
      ],
      "metadata": {
        "id": "sW-RaTaNP7E3"
      },
      "execution_count": null,
      "outputs": []
    },
    {
      "cell_type": "code",
      "source": [
        "netflix_df.info()"
      ],
      "metadata": {
        "id": "yosAdgenQMic"
      },
      "execution_count": null,
      "outputs": []
    },
    {
      "cell_type": "markdown",
      "source": [],
      "metadata": {
        "id": "ILNOdEnxVjyN"
      }
    },
    {
      "cell_type": "code",
      "source": [
        "plt.figure(figsize=(10, 6))\n",
        "plt.scatter(netflix_df['release_year'], netflix_df['duration_min'])\n",
        "plt.title('Scatter Plot of Duration across Release Years')\n",
        "plt.xlabel('Release Year')\n",
        "plt.ylabel('Duration Min')\n",
        "plt.show()"
      ],
      "metadata": {
        "id": "bR8Lb9aBQdbt"
      },
      "execution_count": null,
      "outputs": []
    },
    {
      "cell_type": "markdown",
      "source": [
        "### What all manipulations have you done and insights you found?"
      ],
      "metadata": {
        "id": "MSa1f5Uengrz"
      }
    },
    {
      "cell_type": "markdown",
      "source": [
        "\n",
        "Answer Here."
      ],
      "metadata": {
        "id": "LbyXE7I1olp8"
      }
    },
    {
      "cell_type": "markdown",
      "source": [
        "## ***4. Data Vizualization, Storytelling & Experimenting with charts : Understand the relationships between variables***"
      ],
      "metadata": {
        "id": "GF8Ens_Soomf"
      }
    },
    {
      "cell_type": "markdown",
      "source": [
        "#### Chart - 1"
      ],
      "metadata": {
        "id": "0wOQAZs5pc--"
      }
    },
    {
      "cell_type": "code",
      "source": [
        "# Chart - 1 visualization code\n",
        "# Visualization 1: Bar Plot of Release Years\n",
        "plt.figure(figsize=(10, 6))\n",
        "sns.countplot(x='release_year', data=netflix_df)\n",
        "plt.title('Distribution of Release Years')\n",
        "plt.xticks(rotation=45)\n",
        "plt.show()"
      ],
      "metadata": {
        "id": "7v_ESjsspbW7"
      },
      "execution_count": null,
      "outputs": []
    },
    {
      "cell_type": "markdown",
      "source": [
        "##### 1. Why did you pick the specific chart?"
      ],
      "metadata": {
        "id": "K5QZ13OEpz2H"
      }
    },
    {
      "cell_type": "markdown",
      "source": [
        "Answer Here.\n",
        "#### Bar charts are straightforward to interpret and provide a visual representation that is easily understandable even for those who are not data-savvy. They are widely used for showcasing frequency or count data."
      ],
      "metadata": {
        "id": "XESiWehPqBRc"
      }
    },
    {
      "cell_type": "markdown",
      "source": [
        "##### 2. What is/are the insight(s) found from the chart?"
      ],
      "metadata": {
        "id": "lQ7QKXXCp7Bj"
      }
    },
    {
      "cell_type": "markdown",
      "source": [
        "Answer Here\n",
        "####By observing the distribution of release years, you can identify any trends or patterns in the content released on Netflix over time. This can help understand if there are certain periods with higher or lower content releases."
      ],
      "metadata": {
        "id": "C_j1G7yiqdRP"
      }
    },
    {
      "cell_type": "markdown",
      "source": [
        "##### 3. Will the gained insights help creating a positive business impact?\n",
        "Are there any insights that lead to negative growth? Justify with specific reason."
      ],
      "metadata": {
        "id": "448CDAPjqfQr"
      }
    },
    {
      "cell_type": "markdown",
      "source": [
        "Answer Here\n",
        "####The insights gained from analyzing the distribution of content release years can potentially have a positive business impact for Netflix. Here are some scenarios where these insights could be beneficial:\n",
        "\n",
        "Positive Business Impact:\n",
        "\n",
        "Content Strategy: Understanding temporal trends and popular eras can help in shaping Netflix's content acquisition and production strategy. By identifying periods with higher audience engagement, Netflix can focus on acquiring content from those years or producing similar content to cater to viewer preferences.\n",
        "\n",
        "User Engagement: Knowing the age distribution of content can assist in creating targeted marketing campaigns to attract viewers interested in specific eras or genres. This targeted approach can lead to increased user engagement and retention.\n",
        "\n",
        "Platform Growth: Insights derived from growth periods can inform strategic decisions related to expanding the content library, entering new markets, or investing in original content creation during favorable periods."
      ],
      "metadata": {
        "id": "3cspy4FjqxJW"
      }
    },
    {
      "cell_type": "markdown",
      "source": [
        "#### Chart - 2"
      ],
      "metadata": {
        "id": "KSlN3yHqYklG"
      }
    },
    {
      "cell_type": "code",
      "source": [
        "# Chart - 2 visualization code\n",
        "# Visualization 2: Pie Chart of Content Types\n",
        "plt.figure(figsize=(8, 8))\n",
        "netflix_df['type'].value_counts().plot.pie(autopct='%1.1f%%')\n",
        "plt.title('Percentage of Content Types')\n",
        "plt.show()"
      ],
      "metadata": {
        "id": "R4YgtaqtYklH"
      },
      "execution_count": null,
      "outputs": []
    },
    {
      "cell_type": "markdown",
      "source": [
        "##### 1. Why did you pick the specific chart?"
      ],
      "metadata": {
        "id": "t6dVpIINYklI"
      }
    },
    {
      "cell_type": "markdown",
      "source": [
        "Answer Here.\n",
        "####A pie chart is an effective visualization to represent the distribution of different categories or classes as proportions of a whole. In this case, it can show the percentage of each content type (movies, TV shows) in the dataset relative to the total."
      ],
      "metadata": {
        "id": "5aaW0BYyYklI"
      }
    },
    {
      "cell_type": "markdown",
      "source": [
        "##### 2. What is/are the insight(s) found from the chart?"
      ],
      "metadata": {
        "id": "ijmpgYnKYklI"
      }
    },
    {
      "cell_type": "markdown",
      "source": [
        "Answer Here\n",
        "####By observing the relative sizes of the pie chart segments, you can identify whether movies or TV shows make up the majority of the content on Netflix. This insight can guide decisions regarding content acquisition, licensing, and production."
      ],
      "metadata": {
        "id": "PSx9atu2YklI"
      }
    },
    {
      "cell_type": "markdown",
      "source": [
        "##### 3. Will the gained insights help creating a positive business impact?\n",
        "Are there any insights that lead to negative growth? Justify with specific reason."
      ],
      "metadata": {
        "id": "-JiQyfWJYklI"
      }
    },
    {
      "cell_type": "markdown",
      "source": [
        "Answer Here\n",
        "####Positive Business Impact:\n",
        "\n",
        "Audience Targeting: Understanding the proportion of movies and TV shows can assist in targeted content recommendations and personalized user experiences. This can enhance viewer engagement and satisfaction, leading to increased viewership and retention.\n",
        "\n",
        "Content Strategy Optimization: Insights on content mix can help optimize content acquisition and production strategies. By aligning the content offerings with audience preferences, Netflix can enhance its content library, attract new subscribers, and retain existing ones.\n",
        "\n",
        "Diversification Opportunities: Identifying potential gaps in content types can present opportunities for diversification. Introducing new content categories or genres can appeal to a broader audience base, driving business growth and expanding market reach.\n",
        "\n",
        "Negative Growth Impact:\n",
        "\n",
        "Overemphasis on a Single Category: If the pie chart reveals a disproportionate focus on either movies or TV shows, it might indicate an overreliance on a single content type. This imbalance could lead to a lack of variety, limiting audience engagement and potentially resulting in negative growth.\n",
        "\n",
        "Market Saturation: A skewed distribution of content types may indicate saturation in one category, signifying a need to diversify to avoid audience fatigue or attrition. Failure to address this imbalance could lead to decreased viewer interest and stagnation in subscriber growth.\n",
        "\n",
        "Competition Challenges: Insights suggesting a lack of competitive balance in content offerings compared to other streaming services could pose challenges. Failure to address competitor strengths in content diversity can result in a loss of market share and hinder business growth."
      ],
      "metadata": {
        "id": "BcBbebzrYklV"
      }
    },
    {
      "cell_type": "markdown",
      "source": [
        "#### Chart - 3"
      ],
      "metadata": {
        "id": "EM7whBJCYoAo"
      }
    },
    {
      "cell_type": "code",
      "source": [
        "# Chart - 3 visualization code\n",
        "# Visualization 3: Histogram of Content Durations\n",
        "plt.figure(figsize=(10, 6))\n",
        "sns.histplot(netflix_df['duration_min'], bins=20)\n",
        "plt.title('Distribution of Content Durations')\n",
        "plt.xlabel('Duration (minutes)')\n",
        "plt.ylabel('Count')\n",
        "plt.show()\n"
      ],
      "metadata": {
        "id": "t6GMdE67YoAp"
      },
      "execution_count": null,
      "outputs": []
    },
    {
      "cell_type": "markdown",
      "source": [
        "##### 1. Why did you pick the specific chart?"
      ],
      "metadata": {
        "id": "fge-S5ZAYoAp"
      }
    },
    {
      "cell_type": "markdown",
      "source": [
        "Answer Here.\n",
        "####A histogram is ideal for visualizing the distribution of continuous numerical data, such as the durations of content in minutes. It allows you to see the frequency or count of content at different duration ranges, providing insights into how content durations are spread in the dataset."
      ],
      "metadata": {
        "id": "5dBItgRVYoAp"
      }
    },
    {
      "cell_type": "markdown",
      "source": [
        "##### 2. What is/are the insight(s) found from the chart?"
      ],
      "metadata": {
        "id": "85gYPyotYoAp"
      }
    },
    {
      "cell_type": "markdown",
      "source": [
        "Answer Here\n",
        "####Insights derived from the histogram displaying the distribution of content durations in the dataset can provide valuable information and implications for content planning and audience engagement"
      ],
      "metadata": {
        "id": "4jstXR6OYoAp"
      }
    },
    {
      "cell_type": "markdown",
      "source": [
        "##### 3. Will the gained insights help creating a positive business impact?\n",
        "Are there any insights that lead to negative growth? Justify with specific reason."
      ],
      "metadata": {
        "id": "RoGjAbkUYoAp"
      }
    },
    {
      "cell_type": "markdown",
      "source": [
        "Answer Here\n",
        "####\n",
        "Positive Business Impact:\n",
        "\n",
        "Audience Engagement: Understanding preferred content duration ranges can help Netflix tailor its content offerings to match viewer preferences. This targeted approach can enhance viewer engagement, increase watch time, and contribute to higher customer satisfaction and retention rates.\n",
        "\n",
        "Content Personalization: Insights on content duration distribution can assist in creating personalized content recommendations based on viewer behavior. By recommending content aligned with preferred duration ranges, Netflix can improve user satisfaction and drive platform usage.\n",
        "\n",
        "Optimized Content Strategy: Utilizing insights from the histogram, Netflix can refine its content acquisition and production strategy. This optimization can result in a more diverse content library that caters to a wider audience, leading to increased viewership and market competitiveness.\n",
        "\n",
        "Negative Growth Impact:\n",
        "\n",
        "Lack of Content Variety: If the histogram reveals a limited range or skewed distribution of content durations, it may indicate a lack of content variety. This imbalance can lead to viewer dissatisfaction, reduced engagement, and potential negative growth as audiences seek more diverse content options elsewhere.\n",
        "\n",
        "Overemphasis on Specific Duration Ranges: Focusing disproportionately on specific duration ranges highlighted in the histogram could result in content saturation or viewer fatigue. This may hinder viewer discovery, limit audience reach, and impact content consumption patterns negatively.\n",
        "\n",
        "Mismatch with Viewer Preferences: Insights showing a significant disparity between preferred content durations and the actual content offerings may lead to negative growth. Failure to align content with viewer preferences, as indicated by the histogram analysis, can result in reduced retention rates and lower viewer satisfaction."
      ],
      "metadata": {
        "id": "zfJ8IqMcYoAp"
      }
    },
    {
      "cell_type": "markdown",
      "source": [
        "#### Chart - 4"
      ],
      "metadata": {
        "id": "4Of9eVA-YrdM"
      }
    },
    {
      "cell_type": "code",
      "source": [
        "# Chart - 4 visualization code\n",
        "# Visualization 4: Count Plot of Ratings\n",
        "plt.figure(figsize=(10, 6))\n",
        "sns.countplot(x='rating', data=netflix_df)\n",
        "plt.title('Distribution of Ratings')\n",
        "plt.show()"
      ],
      "metadata": {
        "id": "irlUoxc8YrdO"
      },
      "execution_count": null,
      "outputs": []
    },
    {
      "cell_type": "markdown",
      "source": [
        "##### 1. Why did you pick the specific chart?"
      ],
      "metadata": {
        "id": "iky9q4vBYrdO"
      }
    },
    {
      "cell_type": "markdown",
      "source": [
        "Answer Here.\n",
        "####A count chart can visually represent the frequency of different rating categories (e.g., G, PG, PG-13, R) in the dataset. It provides a clear overview of how many content instances fall under each rating category."
      ],
      "metadata": {
        "id": "aJRCwT6DYrdO"
      }
    },
    {
      "cell_type": "markdown",
      "source": [
        "##### 2. What is/are the insight(s) found from the chart?"
      ],
      "metadata": {
        "id": "F6T5p64dYrdO"
      }
    },
    {
      "cell_type": "markdown",
      "source": [
        "Answer Here\n",
        "####Insights derived from the count chart displaying the distribution of content ratings in the dataset can provide valuable information on viewer preferences, content categorization, and potentially impact content strategy."
      ],
      "metadata": {
        "id": "Xx8WAJvtYrdO"
      }
    },
    {
      "cell_type": "markdown",
      "source": [
        "##### 3. Will the gained insights help creating a positive business impact?\n",
        "Are there any insights that lead to negative growth? Justify with specific reason."
      ],
      "metadata": {
        "id": "y-Ehk30pYrdP"
      }
    },
    {
      "cell_type": "markdown",
      "source": [
        "Answer Here\n",
        "####Positive Business Impact:\n",
        "\n",
        "Audience Understanding: Insights into popular rating categories can help Netflix better understand viewer preferences and tailor content recommendations to match audience tastes. This targeted approach can enhance viewer engagement, satisfaction, and ultimately lead to increased retention and platform loyalty.\n",
        "\n",
        "Effective Content Strategy: Understanding the distribution of content ratings can inform content acquisition, creation, and programming strategies. By aligning the content library with prevalent rating categories, Netflix can optimize its content mix to cater to diverse viewer segments, driving content consumption and platform usage.\n",
        "\n",
        "Market Differentiation: Leveraging insights on content ratings can help Netflix position itself in the market by offering a diverse range of content tailored to various audience preferences. This differentiation can attract new subscribers, retain existing users, and strengthen Netflix's competitive edge in the streaming industry.\n",
        "\n",
        "Negative Growth Impact:\n",
        "\n",
        "Limited Content Diversity: If the count chart reveals an overrepresentation of content in specific rating categories while neglecting others, it may lead to limited content diversity. This imbalance could result in alienating certain viewer segments, potentially reducing engagement and subscriber growth.\n",
        "\n",
        "Regulatory Compliance Issues: Inaccurate or imbalanced content ratings highlighted in the count chart could raise regulatory compliance concerns. Failure to adhere to content classification guidelines may lead to legal challenges, content removal, or limited expansion in regions with strict content regulations, impacting potential growth opportunities.\n",
        "\n",
        "Audience Segmentation Challenges: If insights from the count chart indicate a mismatch between content ratings and viewer demographics, Netflix may face challenges in effectively targeting specific audience segments. This could hinder personalized content recommendations, impact viewer satisfaction, and potentially lead to negative growth due to reduced engagement."
      ],
      "metadata": {
        "id": "jLNxxz7MYrdP"
      }
    },
    {
      "cell_type": "markdown",
      "source": [
        "#### Chart - 5"
      ],
      "metadata": {
        "id": "bamQiAODYuh1"
      }
    },
    {
      "cell_type": "code",
      "source": [
        "\n",
        "# Chart - 5 visualization code\n",
        "# Visualization 5: Box Plot of Release Years and Duration\n",
        "plt.figure(figsize=(12, 8))\n",
        "sns.boxplot(x='release_year', y='duration_min', data=netflix_df)\n",
        "plt.title('Box Plot of Duration across Release Years')\n",
        "plt.xlabel('Release Year')\n",
        "plt.ylabel('Duration (minutes)')\n",
        "plt.xticks(rotation=45)\n",
        "plt.show()"
      ],
      "metadata": {
        "id": "TIJwrbroYuh3"
      },
      "execution_count": null,
      "outputs": []
    },
    {
      "cell_type": "markdown",
      "source": [
        "##### 1. Why did you pick the specific chart?"
      ],
      "metadata": {
        "id": "QHF8YVU7Yuh3"
      }
    },
    {
      "cell_type": "markdown",
      "source": [
        "Answer Here.\n",
        "####Release Year:\n",
        "Temporal Distribution: Box plots can effectively present the distribution of release years for content in the dataset, highlighting the range and variability of when different titles were released.\n",
        "\n",
        "Trend Analysis: Box plots allow for the identification of trends over time. Patterns in the central tendency or spread of release years can reveal insights into content production trends, vintage content popularity, or shifts in release frequency.\n",
        "\n",
        "Outlier Detection: Detection of outliers in release years could indicate rare or distinctive content, potential anomalies in data entry, or highlight specific periods with a higher concentration of releases.\n",
        "\n",
        "Comparative Analysis: Box plots enable comparisons of release year distributions across genres, categories, or content types. This comparative analysis can help in understanding how release years vary within different segments of the dataset.\n",
        "\n",
        "Duration:\n",
        "Duration Distribution: Box plots are useful for visualizing the distribution of content durations, showcasing the range of running times for various titles. This visualization can reveal patterns in duration preferences among viewers.\n",
        "\n",
        "Identifying Trends: By analyzing box plots of content durations over time or across genres, insights into evolving viewer preferences for longer or shorter content formats can be gained.\n",
        "\n",
        "Outlier Detection: The presence of outliers in content durations can highlight unique or atypical titles with exceptionally long or short durations. Understanding these outliers can provide insights into niche content categories or viewer preferences.\n",
        "\n",
        "Content Planning: Analyzing duration box plots can guide content planning strategies, such as determining the optimal length for new content production or curating playlists based on viewer engagement with specific duration ranges.\n",
        "\n",
        "In summary, using box plots for 'release year' and '"
      ],
      "metadata": {
        "id": "dcxuIMRPYuh3"
      }
    },
    {
      "cell_type": "markdown",
      "source": [
        "##### 2. What is/are the insight(s) found from the chart?"
      ],
      "metadata": {
        "id": "GwzvFGzlYuh3"
      }
    },
    {
      "cell_type": "markdown",
      "source": [
        "Answer Here\n",
        "####Insights derived from the box plots depicting the 'release year' and 'duration' columns in the dataset can provide valuable information about content distribution, trends, viewer preferences, and potential areas for strategic focus."
      ],
      "metadata": {
        "id": "uyqkiB8YYuh3"
      }
    },
    {
      "cell_type": "markdown",
      "source": [
        "##### 3. Will the gained insights help creating a positive business impact?\n",
        "Are there any insights that lead to negative growth? Justify with specific reason."
      ],
      "metadata": {
        "id": "qYpmQ266Yuh3"
      }
    },
    {
      "cell_type": "markdown",
      "source": [
        "Answer Here\n",
        "####The insights obtained from analyzing the box plots for 'release year' and 'duration' can indeed yield positive business impacts for Netflix by informing content strategy, audience engagement initiatives, and content planning. However, certain insights may potentially lead to negative growth if not addressed strategically. Here's an overview of how these insights can impact Netflix's business:\n",
        "\n",
        "Positive Business Impact:\n",
        "\n",
        "Content Planning and Acquisition: Insights on content vintage trends and duration preferences can guide content planning and acquisition strategies, enabling Netflix to maintain a diverse and appealing content library that resonates with viewer preferences.\n",
        "\n",
        "Audience Engagement Enhancement: Understanding release year distributions and duration variations can help Netflix tailor content recommendations, improve viewer engagement, and increase subscriber satisfaction by aligning content offerings with viewer preferences.\n",
        "\n",
        "Competitive Edge: Leveraging insights to identify content trends, optimize durations, and refresh content based on historical patterns can help Netflix differentiate itself, attract new subscribers, and retain existing users in a competitive streaming market.\n",
        "\n",
        "Strategic Decision-Making: Data-driven insights from box plots can support informed decision-making, enabling Netflix to allocate resources effectively, optimize content production, and develop targeted content strategies to drive positive business outcomes.\n",
        "\n",
        "Negative Growth Impact:\n",
        "\n",
        "Stagnant Content Portfolio: If the analysis reveals a concentration of content in specific release years or limited variation in duration ranges, Netflix may risk offering a stagnant content portfolio that fails to cater to evolving viewer preferences. This could result in reduced viewer engagement and declining subscriber growth.\n",
        "\n",
        "Misalignment with Viewer Preferences: Inaccurate identification or misinterpretation of viewer content preferences based on release year and duration data from box plots could lead to content recommendations that do not resonate with subscribers. Overlooking or misjudging viewer preferences may result in decreased engagement, leading to potential negative growth.\n",
        "\n",
        "Ignoring Changing Trends: Failure to adapt content strategies based on changing trends highlighted in release year and duration box plots may lead to missed growth opportunities. Not keeping pace with viewer preferences, content format trends, or genre-specific insights could result in reduced audience engagement and declining market share.\n",
        "\n",
        "Quality Perception Issues: If insights from the box plots highlight inconsistencies or patterns indicating poor quality content in terms of release years or durations, it could impact viewer satisfaction, retention rates, and overall subscriber growth. Maintaining content quality standards is essential for sustaining positive business impact."
      ],
      "metadata": {
        "id": "_WtzZ_hCYuh4"
      }
    },
    {
      "cell_type": "markdown",
      "source": [
        "#### Chart - 6"
      ],
      "metadata": {
        "id": "OH-pJp9IphqM"
      }
    },
    {
      "cell_type": "code",
      "source": [
        "# Chart - 6 visualization code"
      ],
      "metadata": {
        "id": "kuRf4wtuphqN"
      },
      "execution_count": null,
      "outputs": []
    },
    {
      "cell_type": "markdown",
      "source": [
        "##### 1. Why did you pick the specific chart?"
      ],
      "metadata": {
        "id": "bbFf2-_FphqN"
      }
    },
    {
      "cell_type": "markdown",
      "source": [
        "Answer Here."
      ],
      "metadata": {
        "id": "loh7H2nzphqN"
      }
    },
    {
      "cell_type": "markdown",
      "source": [
        "##### 2. What is/are the insight(s) found from the chart?"
      ],
      "metadata": {
        "id": "_ouA3fa0phqN"
      }
    },
    {
      "cell_type": "markdown",
      "source": [
        "Answer Here"
      ],
      "metadata": {
        "id": "VECbqPI7phqN"
      }
    },
    {
      "cell_type": "markdown",
      "source": [
        "##### 3. Will the gained insights help creating a positive business impact?\n",
        "Are there any insights that lead to negative growth? Justify with specific reason."
      ],
      "metadata": {
        "id": "Seke61FWphqN"
      }
    },
    {
      "cell_type": "markdown",
      "source": [
        "Answer Here"
      ],
      "metadata": {
        "id": "DW4_bGpfphqN"
      }
    },
    {
      "cell_type": "markdown",
      "source": [
        "#### Chart - 7"
      ],
      "metadata": {
        "id": "PIIx-8_IphqN"
      }
    },
    {
      "cell_type": "code",
      "source": [
        "# Chart - 7 visualization code"
      ],
      "metadata": {
        "id": "lqAIGUfyphqO"
      },
      "execution_count": null,
      "outputs": []
    },
    {
      "cell_type": "markdown",
      "source": [
        "##### 1. Why did you pick the specific chart?"
      ],
      "metadata": {
        "id": "t27r6nlMphqO"
      }
    },
    {
      "cell_type": "markdown",
      "source": [
        "Answer Here."
      ],
      "metadata": {
        "id": "iv6ro40sphqO"
      }
    },
    {
      "cell_type": "markdown",
      "source": [
        "##### 2. What is/are the insight(s) found from the chart?"
      ],
      "metadata": {
        "id": "r2jJGEOYphqO"
      }
    },
    {
      "cell_type": "markdown",
      "source": [
        "Answer Here"
      ],
      "metadata": {
        "id": "Po6ZPi4hphqO"
      }
    },
    {
      "cell_type": "markdown",
      "source": [
        "##### 3. Will the gained insights help creating a positive business impact?\n",
        "Are there any insights that lead to negative growth? Justify with specific reason."
      ],
      "metadata": {
        "id": "b0JNsNcRphqO"
      }
    },
    {
      "cell_type": "markdown",
      "source": [
        "Answer Here"
      ],
      "metadata": {
        "id": "xvSq8iUTphqO"
      }
    },
    {
      "cell_type": "markdown",
      "source": [
        "#### Chart - 8"
      ],
      "metadata": {
        "id": "BZR9WyysphqO"
      }
    },
    {
      "cell_type": "code",
      "source": [
        "# Chart - 8 visualization code"
      ],
      "metadata": {
        "id": "TdPTWpAVphqO"
      },
      "execution_count": null,
      "outputs": []
    },
    {
      "cell_type": "markdown",
      "source": [
        "##### 1. Why did you pick the specific chart?"
      ],
      "metadata": {
        "id": "jj7wYXLtphqO"
      }
    },
    {
      "cell_type": "markdown",
      "source": [
        "Answer Here."
      ],
      "metadata": {
        "id": "Ob8u6rCTphqO"
      }
    },
    {
      "cell_type": "markdown",
      "source": [
        "##### 2. What is/are the insight(s) found from the chart?"
      ],
      "metadata": {
        "id": "eZrbJ2SmphqO"
      }
    },
    {
      "cell_type": "markdown",
      "source": [
        "Answer Here"
      ],
      "metadata": {
        "id": "mZtgC_hjphqO"
      }
    },
    {
      "cell_type": "markdown",
      "source": [
        "##### 3. Will the gained insights help creating a positive business impact?\n",
        "Are there any insights that lead to negative growth? Justify with specific reason."
      ],
      "metadata": {
        "id": "rFu4xreNphqO"
      }
    },
    {
      "cell_type": "markdown",
      "source": [
        "Answer Here"
      ],
      "metadata": {
        "id": "ey_0qi68phqO"
      }
    },
    {
      "cell_type": "markdown",
      "source": [
        "#### Chart - 9"
      ],
      "metadata": {
        "id": "YJ55k-q6phqO"
      }
    },
    {
      "cell_type": "code",
      "source": [
        "# Chart - 9 visualization code"
      ],
      "metadata": {
        "id": "B2aS4O1ophqO"
      },
      "execution_count": null,
      "outputs": []
    },
    {
      "cell_type": "markdown",
      "source": [
        "##### 1. Why did you pick the specific chart?"
      ],
      "metadata": {
        "id": "gCFgpxoyphqP"
      }
    },
    {
      "cell_type": "markdown",
      "source": [
        "Answer Here."
      ],
      "metadata": {
        "id": "TVxDimi2phqP"
      }
    },
    {
      "cell_type": "markdown",
      "source": [
        "##### 2. What is/are the insight(s) found from the chart?"
      ],
      "metadata": {
        "id": "OVtJsKN_phqQ"
      }
    },
    {
      "cell_type": "markdown",
      "source": [
        "Answer Here"
      ],
      "metadata": {
        "id": "ngGi97qjphqQ"
      }
    },
    {
      "cell_type": "markdown",
      "source": [
        "##### 3. Will the gained insights help creating a positive business impact?\n",
        "Are there any insights that lead to negative growth? Justify with specific reason."
      ],
      "metadata": {
        "id": "lssrdh5qphqQ"
      }
    },
    {
      "cell_type": "markdown",
      "source": [
        "Answer Here"
      ],
      "metadata": {
        "id": "tBpY5ekJphqQ"
      }
    },
    {
      "cell_type": "markdown",
      "source": [
        "#### Chart - 10"
      ],
      "metadata": {
        "id": "U2RJ9gkRphqQ"
      }
    },
    {
      "cell_type": "code",
      "source": [
        "# Chart - 10 visualization code"
      ],
      "metadata": {
        "id": "GM7a4YP4phqQ"
      },
      "execution_count": null,
      "outputs": []
    },
    {
      "cell_type": "markdown",
      "source": [
        "##### 1. Why did you pick the specific chart?"
      ],
      "metadata": {
        "id": "1M8mcRywphqQ"
      }
    },
    {
      "cell_type": "markdown",
      "source": [
        "Answer Here."
      ],
      "metadata": {
        "id": "8agQvks0phqQ"
      }
    },
    {
      "cell_type": "markdown",
      "source": [
        "##### 2. What is/are the insight(s) found from the chart?"
      ],
      "metadata": {
        "id": "tgIPom80phqQ"
      }
    },
    {
      "cell_type": "markdown",
      "source": [
        "Answer Here"
      ],
      "metadata": {
        "id": "Qp13pnNzphqQ"
      }
    },
    {
      "cell_type": "markdown",
      "source": [
        "##### 3. Will the gained insights help creating a positive business impact?\n",
        "Are there any insights that lead to negative growth? Justify with specific reason."
      ],
      "metadata": {
        "id": "JMzcOPDDphqR"
      }
    },
    {
      "cell_type": "markdown",
      "source": [
        "Answer Here"
      ],
      "metadata": {
        "id": "R4Ka1PC2phqR"
      }
    },
    {
      "cell_type": "markdown",
      "source": [
        "#### Chart - 11"
      ],
      "metadata": {
        "id": "x-EpHcCOp1ci"
      }
    },
    {
      "cell_type": "code",
      "source": [
        "# Chart - 11 visualization code"
      ],
      "metadata": {
        "id": "mAQTIvtqp1cj"
      },
      "execution_count": null,
      "outputs": []
    },
    {
      "cell_type": "markdown",
      "source": [
        "##### 1. Why did you pick the specific chart?"
      ],
      "metadata": {
        "id": "X_VqEhTip1ck"
      }
    },
    {
      "cell_type": "markdown",
      "source": [
        "Answer Here."
      ],
      "metadata": {
        "id": "-vsMzt_np1ck"
      }
    },
    {
      "cell_type": "markdown",
      "source": [
        "##### 2. What is/are the insight(s) found from the chart?"
      ],
      "metadata": {
        "id": "8zGJKyg5p1ck"
      }
    },
    {
      "cell_type": "markdown",
      "source": [
        "Answer Here"
      ],
      "metadata": {
        "id": "ZYdMsrqVp1ck"
      }
    },
    {
      "cell_type": "markdown",
      "source": [
        "##### 3. Will the gained insights help creating a positive business impact?\n",
        "Are there any insights that lead to negative growth? Justify with specific reason."
      ],
      "metadata": {
        "id": "PVzmfK_Ep1ck"
      }
    },
    {
      "cell_type": "markdown",
      "source": [
        "Answer Here"
      ],
      "metadata": {
        "id": "druuKYZpp1ck"
      }
    },
    {
      "cell_type": "markdown",
      "source": [
        "#### Chart - 12"
      ],
      "metadata": {
        "id": "n3dbpmDWp1ck"
      }
    },
    {
      "cell_type": "code",
      "source": [
        "# Chart - 12 visualization code"
      ],
      "metadata": {
        "id": "bwevp1tKp1ck"
      },
      "execution_count": null,
      "outputs": []
    },
    {
      "cell_type": "markdown",
      "source": [
        "##### 1. Why did you pick the specific chart?"
      ],
      "metadata": {
        "id": "ylSl6qgtp1ck"
      }
    },
    {
      "cell_type": "markdown",
      "source": [
        "Answer Here."
      ],
      "metadata": {
        "id": "m2xqNkiQp1ck"
      }
    },
    {
      "cell_type": "markdown",
      "source": [
        "##### 2. What is/are the insight(s) found from the chart?"
      ],
      "metadata": {
        "id": "ZWILFDl5p1ck"
      }
    },
    {
      "cell_type": "markdown",
      "source": [
        "Answer Here"
      ],
      "metadata": {
        "id": "x-lUsV2mp1ck"
      }
    },
    {
      "cell_type": "markdown",
      "source": [
        "##### 3. Will the gained insights help creating a positive business impact?\n",
        "Are there any insights that lead to negative growth? Justify with specific reason."
      ],
      "metadata": {
        "id": "M7G43BXep1ck"
      }
    },
    {
      "cell_type": "markdown",
      "source": [
        "Answer Here"
      ],
      "metadata": {
        "id": "5wwDJXsLp1cl"
      }
    },
    {
      "cell_type": "markdown",
      "source": [
        "#### Chart - 13"
      ],
      "metadata": {
        "id": "Ag9LCva-p1cl"
      }
    },
    {
      "cell_type": "code",
      "source": [
        "# Chart - 13 visualization code"
      ],
      "metadata": {
        "id": "EUfxeq9-p1cl"
      },
      "execution_count": null,
      "outputs": []
    },
    {
      "cell_type": "markdown",
      "source": [
        "##### 1. Why did you pick the specific chart?"
      ],
      "metadata": {
        "id": "E6MkPsBcp1cl"
      }
    },
    {
      "cell_type": "markdown",
      "source": [
        "Answer Here."
      ],
      "metadata": {
        "id": "V22bRsFWp1cl"
      }
    },
    {
      "cell_type": "markdown",
      "source": [
        "##### 2. What is/are the insight(s) found from the chart?"
      ],
      "metadata": {
        "id": "2cELzS2fp1cl"
      }
    },
    {
      "cell_type": "markdown",
      "source": [
        "Answer Here"
      ],
      "metadata": {
        "id": "ozQPc2_Ip1cl"
      }
    },
    {
      "cell_type": "markdown",
      "source": [
        "##### 3. Will the gained insights help creating a positive business impact?\n",
        "Are there any insights that lead to negative growth? Justify with specific reason."
      ],
      "metadata": {
        "id": "3MPXvC8up1cl"
      }
    },
    {
      "cell_type": "markdown",
      "source": [
        "Answer Here"
      ],
      "metadata": {
        "id": "GL8l1tdLp1cl"
      }
    },
    {
      "cell_type": "markdown",
      "source": [
        "#### Chart - 14 - Correlation Heatmap"
      ],
      "metadata": {
        "id": "NC_X3p0fY2L0"
      }
    },
    {
      "cell_type": "code",
      "source": [
        "# Correlation Heatmap visualization code"
      ],
      "metadata": {
        "id": "xyC9zolEZNRQ"
      },
      "execution_count": null,
      "outputs": []
    },
    {
      "cell_type": "markdown",
      "source": [
        "##### 1. Why did you pick the specific chart?"
      ],
      "metadata": {
        "id": "UV0SzAkaZNRQ"
      }
    },
    {
      "cell_type": "markdown",
      "source": [
        "Answer Here."
      ],
      "metadata": {
        "id": "DVPuT8LYZNRQ"
      }
    },
    {
      "cell_type": "markdown",
      "source": [
        "##### 2. What is/are the insight(s) found from the chart?"
      ],
      "metadata": {
        "id": "YPEH6qLeZNRQ"
      }
    },
    {
      "cell_type": "markdown",
      "source": [
        "Answer Here"
      ],
      "metadata": {
        "id": "bfSqtnDqZNRR"
      }
    },
    {
      "cell_type": "markdown",
      "source": [
        "#### Chart - 15 - Pair Plot"
      ],
      "metadata": {
        "id": "q29F0dvdveiT"
      }
    },
    {
      "cell_type": "code",
      "source": [
        "# Pair Plot visualization code"
      ],
      "metadata": {
        "id": "o58-TEIhveiU"
      },
      "execution_count": null,
      "outputs": []
    },
    {
      "cell_type": "markdown",
      "source": [
        "##### 1. Why did you pick the specific chart?"
      ],
      "metadata": {
        "id": "EXh0U9oCveiU"
      }
    },
    {
      "cell_type": "markdown",
      "source": [
        "Answer Here."
      ],
      "metadata": {
        "id": "eMmPjTByveiU"
      }
    },
    {
      "cell_type": "markdown",
      "source": [
        "##### 2. What is/are the insight(s) found from the chart?"
      ],
      "metadata": {
        "id": "22aHeOlLveiV"
      }
    },
    {
      "cell_type": "markdown",
      "source": [
        "Answer Here"
      ],
      "metadata": {
        "id": "uPQ8RGwHveiV"
      }
    },
    {
      "cell_type": "markdown",
      "source": [
        "## ***5. Hypothesis Testing***"
      ],
      "metadata": {
        "id": "g-ATYxFrGrvw"
      }
    },
    {
      "cell_type": "code",
      "source": [
        "from scipy.stats import ttest_ind\n",
        "# Filter movie and TV show durations\n",
        "movie_durations = netflix_df[netflix_df['type'] == 'Movie']['duration_min'].dropna()\n",
        "tv_show_durations = netflix_df[netflix_df['type'] == 'TV Show']['duration_min'].dropna()\n",
        "\n",
        "# Perform two-sample t-test\n",
        "t_stat, p_value = ttest_ind(movie_durations, tv_show_durations, equal_var=False)\n",
        "\n",
        "# Set significance level\n",
        "alpha = 0.05\n",
        "\n",
        "# Print the test result\n",
        "if p_value < alpha:\n",
        "    print(\"Reject the null hypothesis: There is a significant difference in average durations.\")\n",
        "else:\n",
        "    print(\"Fail to reject the null hypothesis: There is no significant difference in average durations.\")\n",
        "\n"
      ],
      "metadata": {
        "id": "ML8zqhehnWgw"
      },
      "execution_count": null,
      "outputs": []
    },
    {
      "cell_type": "markdown",
      "source": [
        "##### Which statistical test have you done to obtain P-Value?"
      ],
      "metadata": {
        "id": "Ou-I18pAyIpj"
      }
    },
    {
      "cell_type": "markdown",
      "source": [
        "Answer Here.\n",
        "####Two sample t-test"
      ],
      "metadata": {
        "id": "s2U0kk00ygSB"
      }
    },
    {
      "cell_type": "markdown",
      "source": [
        "##### Why did you choose the specific statistical test?"
      ],
      "metadata": {
        "id": "fF3858GYyt-u"
      }
    },
    {
      "cell_type": "markdown",
      "source": [
        "Answer Here.\n",
        "\n",
        "Comparison of Means: The two-sample t-test is suitable for comparing the means of two groups or samples. In the context of machine learning, we may use it to compare performance metrics or characteristics of two different models, algorithms, or datasets.\n",
        "\n",
        "Assumption of Normality: The t-test assumes that the data in each group is approximately normally distributed. When working with statistical tests, it's essential to ensure that the underlying assumptions of the test are met for valid results.\n",
        "\n",
        "Calculation of Statistic: The t-test calculates a t-statistic, which indicates how large the difference between the sample means is relative to the variation within the samples. This t-statistic is used to calculate the p-value associated with the observed data.\n",
        "\n",
        "Interpretation: The p-value obtained from the two-sample t-test provides a measure of the probability of observing the data if the null hypothesis (no difference between the groups) is true. A low p-value suggests strong evidence against the null hypothesis, indicating a significant difference between the two groups.\n",
        "\n",
        "Significance Testing: By comparing the p-value to a predefined significance level (commonly 0.05), we can make decisions about rejecting or failing to reject the null hypothesis. If the p-value is less than the significance level, we reject the null hypothesis, suggesting a significant difference between the groups.\n",
        "\n"
      ],
      "metadata": {
        "id": "HO4K0gP5y3B4"
      }
    },
    {
      "cell_type": "markdown",
      "source": [
        "### Hypothetical Statement - 3\n"
      ],
      "metadata": {
        "id": "bn_IUdTipZyH"
      }
    },
    {
      "cell_type": "markdown",
      "source": [
        "##### Which statistical test have you done to obtain P-Value?"
      ],
      "metadata": {
        "id": "kLW572S8pZyI"
      }
    },
    {
      "cell_type": "markdown",
      "source": [
        "Answer Here."
      ],
      "metadata": {
        "id": "ytWJ8v15pZyI"
      }
    },
    {
      "cell_type": "markdown",
      "source": [
        "##### Why did you choose the specific statistical test?"
      ],
      "metadata": {
        "id": "dWbDXHzopZyI"
      }
    },
    {
      "cell_type": "markdown",
      "source": [
        "Answer Here.\n"
      ],
      "metadata": {
        "id": "M99G98V6pZyI"
      }
    },
    {
      "cell_type": "markdown",
      "source": [
        "## ***6. Feature Engineering & Data Pre-processing***"
      ],
      "metadata": {
        "id": "yLjJCtPM0KBk"
      }
    },
    {
      "cell_type": "markdown",
      "source": [
        "### 1. Handling Missing Values"
      ],
      "metadata": {
        "id": "xiyOF9F70UgQ"
      }
    },
    {
      "cell_type": "code",
      "source": [
        "from sklearn.preprocessing import StandardScaler\n",
        "from sklearn.preprocessing import OneHotEncoder\n",
        "from sklearn.impute import SimpleImputer\n",
        "\n",
        "# Handling Missing Values\n",
        "imputer = SimpleImputer(strategy='mean')\n",
        "netflix_df['duration_min'] = imputer.fit_transform(netflix_df['duration_min'].values.reshape(-1, 1))\n",
        "\n"
      ],
      "metadata": {
        "id": "iRsAHk1K0fpS"
      },
      "execution_count": null,
      "outputs": []
    },
    {
      "cell_type": "code",
      "source": [
        "# Encoding Categorical Variables (Example: type)\n",
        "encoder = OneHotEncoder()\n",
        "encoded_type = encoder.fit_transform(netflix_df[['type']])\n",
        "num_categories = len(encoder.categories_[0])\n",
        "category_names = ['type_' + str(i) for i in range(num_categories)]\n",
        "\n",
        "# Create a DataFrame with the encoded columns and proper column names\n",
        "encoded_type_df = pd.DataFrame(encoded_type.toarray(), columns=category_names)\n",
        "\n",
        "# Concatenate the encoded dataframe with the original dataframe and drop the original 'type' column\n",
        "data = pd.concat([netflix_df, encoded_type_df], axis=1)\n",
        "data.drop('type', axis=1, inplace=True)\n",
        "\n",
        "# To see the modified dataset\n",
        "print(data.head())"
      ],
      "metadata": {
        "id": "csueR8gltsBz"
      },
      "execution_count": null,
      "outputs": []
    },
    {
      "cell_type": "code",
      "source": [
        "# Feature Scaling (Example: duration_min)\n",
        "scaler = StandardScaler()\n",
        "netflix_df['duration_min'] = scaler.fit_transform(netflix_df['duration_min'].values.reshape(-1, 1))\n"
      ],
      "metadata": {
        "id": "EB9OEvnhuDNb"
      },
      "execution_count": null,
      "outputs": []
    },
    {
      "cell_type": "code",
      "source": [
        "#Example: Creating a new feature 'is_foreign'\n",
        "netflix_df['is_foreign'] = netflix_df['country'].apply(lambda x: 1 if x != 'United States' else 0)\n"
      ],
      "metadata": {
        "id": "IGC8ZAutuP_Q"
      },
      "execution_count": null,
      "outputs": []
    },
    {
      "cell_type": "code",
      "source": [
        "# To see how the dataset looks after preprocessing\n",
        "print(netflix_df.head())"
      ],
      "metadata": {
        "id": "crob9FTMui8r"
      },
      "execution_count": null,
      "outputs": []
    },
    {
      "cell_type": "markdown",
      "source": [
        "#### What all missing value imputation techniques have you used and why did you use those techniques?"
      ],
      "metadata": {
        "id": "7wuGOrhz0itI"
      }
    },
    {
      "cell_type": "markdown",
      "source": [
        "Answer Here.\n",
        "\n",
        "1) StandardScaler\n",
        "\n",
        "2) OneHot Encoder\n",
        "\n",
        "3)Simple Encoder"
      ],
      "metadata": {
        "id": "1ixusLtI0pqI"
      }
    },
    {
      "cell_type": "markdown",
      "source": [
        "### 2. Handling Outliers"
      ],
      "metadata": {
        "id": "id1riN9m0vUs"
      }
    },
    {
      "cell_type": "code",
      "source": [
        "# Calculate IQR\n",
        "Q1 = data['duration_min'].quantile(0.25)\n",
        "Q3 = data['duration_min'].quantile(0.75)\n",
        "IQR = Q3 - Q1\n"
      ],
      "metadata": {
        "id": "6PKLSB18xpIj"
      },
      "execution_count": null,
      "outputs": []
    },
    {
      "cell_type": "code",
      "source": [
        "# Define lower and upper bounds for clipping outliers\n",
        "lower_bound = Q1 - 1.5 * IQR\n",
        "upper_bound = Q3 + 1.5 * IQR\n",
        "\n"
      ],
      "metadata": {
        "id": "Itt_jQuOxjmC"
      },
      "execution_count": null,
      "outputs": []
    },
    {
      "cell_type": "code",
      "source": [
        "# Clip outliers\n",
        "data['duration_min'] = data['duration_min'].clip(lower=lower_bound, upper=upper_bound)\n",
        "\n",
        "# To see the dataset with clipped outliers\n",
        "print(data.head())\n"
      ],
      "metadata": {
        "id": "ope_ENSky97r"
      },
      "execution_count": null,
      "outputs": []
    },
    {
      "cell_type": "markdown",
      "source": [
        "##### What all outlier treatment techniques have you used and why did you use those techniques?"
      ],
      "metadata": {
        "id": "578E2V7j08f6"
      }
    },
    {
      "cell_type": "markdown",
      "source": [
        "Answer Here.\n",
        "\n",
        "1) IQR"
      ],
      "metadata": {
        "id": "uGZz5OrT1HH-"
      }
    },
    {
      "cell_type": "markdown",
      "source": [
        "### 3. Categorical Encoding"
      ],
      "metadata": {
        "id": "89xtkJwZ18nB"
      }
    },
    {
      "cell_type": "code",
      "source": [
        "# Encode your categorical columns\n",
        "# Perform one-hot encoding on 'type' column\n",
        "encoded_data = pd.get_dummies(netflix_df, columns=['type'])\n",
        "\n",
        "# To see the encoded dataset\n",
        "print(encoded_data.head())"
      ],
      "metadata": {
        "id": "21JmIYMG2hEo"
      },
      "execution_count": null,
      "outputs": []
    },
    {
      "cell_type": "markdown",
      "source": [
        "#### What all categorical encoding techniques have you used & why did you use those techniques?"
      ],
      "metadata": {
        "id": "67NQN5KX2AMe"
      }
    },
    {
      "cell_type": "markdown",
      "source": [
        "Answer Here."
      ],
      "metadata": {
        "id": "UDaue5h32n_G"
      }
    },
    {
      "cell_type": "markdown",
      "source": [
        "### 6. Data Scaling\n",
        "\n",
        "1) One Hot Encoder"
      ],
      "metadata": {
        "id": "rMDnDkt2B6du"
      }
    },
    {
      "cell_type": "code",
      "source": [
        "# Check the column names in your dataset\n",
        "print(data.columns)\n"
      ],
      "metadata": {
        "id": "rAGzHr4P7NVF"
      },
      "execution_count": null,
      "outputs": []
    },
    {
      "cell_type": "code",
      "source": [
        "# Scaling your data\n",
        "from sklearn.preprocessing import MinMaxScaler\n",
        "# Initialize Min-Max Scaler\n",
        "scaler = MinMaxScaler()\n"
      ],
      "metadata": {
        "id": "dL9LWpySC6x_"
      },
      "execution_count": null,
      "outputs": []
    },
    {
      "cell_type": "code",
      "source": [
        "# Select the features to scale based on the actual column names in your dataset\n",
        "features_to_scale = ['release_year', 'duration_min']"
      ],
      "metadata": {
        "id": "8GriHB2N7bLF"
      },
      "execution_count": null,
      "outputs": []
    },
    {
      "cell_type": "code",
      "source": [
        "# Check if the selected columns exist in the dataset\n",
        "for feature in features_to_scale:\n",
        "    if feature not in netflix_df.columns:\n",
        "        print(f\"Column {feature} not found in the dataset.\")"
      ],
      "metadata": {
        "id": "y5ot7F_R7pbZ"
      },
      "execution_count": null,
      "outputs": []
    },
    {
      "cell_type": "code",
      "source": [
        "# Scale the selected features\n",
        "netflix_df[features_to_scale] = scaler.fit_transform(netflix_df[features_to_scale])\n",
        "\n",
        "# To see the scaled dataset\n",
        "print(netflix_df.head())"
      ],
      "metadata": {
        "id": "Vv-y9ctR7wYP"
      },
      "execution_count": null,
      "outputs": []
    },
    {
      "cell_type": "markdown",
      "source": [
        "##### Which method have you used to scale you data and why?\n",
        "\n",
        "1) Min-Max Scaler"
      ],
      "metadata": {
        "id": "yiiVWRdJDDil"
      }
    },
    {
      "cell_type": "markdown",
      "source": [
        "### 7. Dimesionality Reduction"
      ],
      "metadata": {
        "id": "1UUpS68QDMuG"
      }
    },
    {
      "cell_type": "markdown",
      "source": [
        "##### Do you think that dimensionality reduction is needed? Explain Why?"
      ],
      "metadata": {
        "id": "kexQrXU-DjzY"
      }
    },
    {
      "cell_type": "markdown",
      "source": [
        "Answer Here."
      ],
      "metadata": {
        "id": "GGRlBsSGDtTQ"
      }
    },
    {
      "cell_type": "code",
      "source": [
        "# DImensionality Reduction (If needed)"
      ],
      "metadata": {
        "id": "kQfvxBBHDvCa"
      },
      "execution_count": null,
      "outputs": []
    },
    {
      "cell_type": "markdown",
      "source": [
        "##### Which dimensionality reduction technique have you used and why? (If dimensionality reduction done on dataset.)"
      ],
      "metadata": {
        "id": "T5CmagL3EC8N"
      }
    },
    {
      "cell_type": "markdown",
      "source": [
        "Answer Here."
      ],
      "metadata": {
        "id": "ZKr75IDuEM7t"
      }
    },
    {
      "cell_type": "markdown",
      "source": [
        "### 8. Data Splitting"
      ],
      "metadata": {
        "id": "BhH2vgX9EjGr"
      }
    },
    {
      "cell_type": "code",
      "source": [
        "\n",
        "# Split your data to train and test. Choose Splitting ratio wisely.\n",
        "from sklearn.model_selection import train_test_split"
      ],
      "metadata": {
        "id": "0CTyd2UwEyNM"
      },
      "execution_count": null,
      "outputs": []
    },
    {
      "cell_type": "code",
      "source": [
        "\n",
        "# Select features (X) without a target variable\n",
        "X = netflix_df[['release_year', 'duration_min']]  # Select your specific features\n",
        "\n",
        "# Split the data into training and testing sets (e.g., 80% training and 20% testing)\n",
        "X_train, X_test = train_test_split(X, test_size=0.2, random_state=42)\n",
        "\n",
        "# To verify the shapes of the resulting sets\n",
        "print(\"Training set shape:\", X_train.shape)\n",
        "print(\"Testing set shape:\", X_test.shape)"
      ],
      "metadata": {
        "id": "NeXv-GU98P2M"
      },
      "execution_count": null,
      "outputs": []
    },
    {
      "cell_type": "markdown",
      "source": [
        "##### What data splitting ratio have you used and why?"
      ],
      "metadata": {
        "id": "qjKvONjwE8ra"
      }
    },
    {
      "cell_type": "markdown",
      "source": [
        "Answer Here."
      ],
      "metadata": {
        "id": "Y2lJ8cobFDb_"
      }
    },
    {
      "cell_type": "markdown",
      "source": [
        "### 9. Handling Imbalanced Dataset"
      ],
      "metadata": {
        "id": "P1XJ9OREExlT"
      }
    },
    {
      "cell_type": "markdown",
      "source": [
        "##### Do you think the dataset is imbalanced? Explain Why."
      ],
      "metadata": {
        "id": "VFOzZv6IFROw"
      }
    },
    {
      "cell_type": "markdown",
      "source": [
        "Answer Here."
      ],
      "metadata": {
        "id": "GeKDIv7pFgcC"
      }
    },
    {
      "cell_type": "code",
      "source": [
        "# Handling Imbalanced Dataset (If needed)"
      ],
      "metadata": {
        "id": "nQsRhhZLFiDs"
      },
      "execution_count": null,
      "outputs": []
    },
    {
      "cell_type": "markdown",
      "source": [
        "##### What technique did you use to handle the imbalance dataset and why? (If needed to be balanced)"
      ],
      "metadata": {
        "id": "TIqpNgepFxVj"
      }
    },
    {
      "cell_type": "markdown",
      "source": [
        "Answer Here."
      ],
      "metadata": {
        "id": "qbet1HwdGDTz"
      }
    },
    {
      "cell_type": "markdown",
      "source": [
        "## ***7. ML Model Implementation***"
      ],
      "metadata": {
        "id": "VfCC591jGiD4"
      }
    },
    {
      "cell_type": "markdown",
      "source": [
        "### ML Model - 1"
      ],
      "metadata": {
        "id": "OB4l2ZhMeS1U"
      }
    },
    {
      "cell_type": "code",
      "source": [
        "from sklearn.cluster import KMeans"
      ],
      "metadata": {
        "id": "_LwqeI549sAZ"
      },
      "execution_count": null,
      "outputs": []
    },
    {
      "cell_type": "code",
      "source": [
        "# ML Model - 1 Implementation\n",
        "# Select features (X) for clustering\n",
        "X = netflix_df[['release_year', 'duration_min']]  # Select appropriate features for clustering\n",
        "# Initialize the K-Means model\n",
        "kmeans = KMeans(n_clusters=3, random_state=42)  # Specify the number of clusters\n",
        "\n",
        "\n",
        "# Fit the Algorithm\n",
        "kmeans.fit(X)\n",
        "\n",
        "# Predict on the model"
      ],
      "metadata": {
        "id": "7ebyywQieS1U"
      },
      "execution_count": null,
      "outputs": []
    },
    {
      "cell_type": "code",
      "source": [
        "# Assign clusters to the data points\n",
        "cluster_labels = kmeans.labels_"
      ],
      "metadata": {
        "id": "Li5kdfhM-bld"
      },
      "execution_count": null,
      "outputs": []
    },
    {
      "cell_type": "code",
      "source": [
        "# Optionally, you can access cluster centers\n",
        "cluster_centers = kmeans.cluster_centers_"
      ],
      "metadata": {
        "id": "odlpTvYA-fRq"
      },
      "execution_count": null,
      "outputs": []
    },
    {
      "cell_type": "code",
      "source": [
        "# Print the cluster labels for each data point\n",
        "print(cluster_labels)"
      ],
      "metadata": {
        "id": "nGCe8BCW-i6h"
      },
      "execution_count": null,
      "outputs": []
    },
    {
      "cell_type": "markdown",
      "source": [
        "#### 1. Explain the ML Model used and it's performance using Evaluation metric Score Chart."
      ],
      "metadata": {
        "id": "ArJBuiUVfxKd"
      }
    },
    {
      "cell_type": "code",
      "source": [
        "from sklearn.metrics import silhouette_score"
      ],
      "metadata": {
        "id": "JXxX4fEf_yZb"
      },
      "execution_count": null,
      "outputs": []
    },
    {
      "cell_type": "code",
      "source": [
        "# Compute the Silhouette score to evaluate the K-Means model\n",
        "silhouette_avg = silhouette_score(X, kmeans.labels_)\n",
        "print(f\"Silhouette Score: {silhouette_avg}\")"
      ],
      "metadata": {
        "id": "tDUKk0_K_2pj"
      },
      "execution_count": null,
      "outputs": []
    },
    {
      "cell_type": "code",
      "source": [
        "# Visualizing evaluation Metric Score chart\n",
        "sns.scatterplot(x=X['release_year'], y=X['duration_min'], hue=kmeans.labels_, palette='viridis')\n",
        "plt.scatter(cluster_centers[:, 0], cluster_centers[:, 1], c='red', marker='x', s=100)  # Plot centroids\n",
        "plt.title(\"K-Means Clustering\")\n",
        "plt.xlabel(\"release_year\")\n",
        "plt.ylabel(\"duration_min\")\n",
        "plt.legend(title='Cluster')\n",
        "plt.show()"
      ],
      "metadata": {
        "id": "rqD5ZohzfxKe"
      },
      "execution_count": null,
      "outputs": []
    },
    {
      "cell_type": "markdown",
      "source": [
        "#### 2. Cross- Validation & Hyperparameter Tuning"
      ],
      "metadata": {
        "id": "4qY1EAkEfxKe"
      }
    },
    {
      "cell_type": "code",
      "source": [
        "# ML Model - 1 Implementation with hyperparameter optimization techniques (i.e., GridSearch CV, RandomSearch CV, Bayesian Optimization etc.)\n",
        "from sklearn.metrics import silhouette_score\n",
        "from sklearn.model_selection import KFold\n",
        "\n",
        "# Define a custom silhouette scorer function\n",
        "def silhouette_scorer(estimator, X):\n",
        "    labels = estimator.fit_predict(X)\n",
        "    score = silhouette_score(X, labels)\n",
        "    return score\n",
        "\n",
        "# Initialize K-Means model\n",
        "kmeans = KMeans(random_state=42)\n",
        "\n",
        "# Perform Grid Search Cross-Validation with custom silhouette scorer\n",
        "kf = KFold(n_splits=5, shuffle=True, random_state=42)\n",
        "scores = []\n",
        "for train_index, test_index in kf.split(X):\n",
        "    X_train, X_test = X.iloc[train_index], X.iloc[test_index]\n",
        "    kmeans.fit(X_train)\n",
        "    score = silhouette_score(X_test, kmeans.predict(X_test))\n",
        "    scores.append(score)\n",
        "\n",
        "average_silhouette_score = np.mean(scores)\n",
        "print(\"Average Silhouette Score:\", average_silhouette_score)"
      ],
      "metadata": {
        "id": "Dy61ujd6fxKe"
      },
      "execution_count": null,
      "outputs": []
    },
    {
      "cell_type": "markdown",
      "source": [
        "##### Which hyperparameter optimization technique have you used and why?"
      ],
      "metadata": {
        "id": "PiV4Ypx8fxKe"
      }
    },
    {
      "cell_type": "markdown",
      "source": [
        "Answer Here.\n",
        "\n",
        "Grid Search Cross-Validation\n",
        "\n",
        "Systematic Hyperparameter Search: Grid Search performs an exhaustive search over a specified parameter grid. It evaluates the model performance for each combination of hyperparameters provided in the grid. This systematic approach helps in finding the set of hyperparameters that yield the best model performance.\n",
        "\n",
        "Optimal Model Generalization: By using cross-validation in conjunction with Grid Search, it ensures that the hyperparameters are tuned in a way that improves the model's performance on unseen data. Cross-validation prevents overfitting and provides a more reliable estimate of the model's generalization performance.\n",
        "\n",
        "Efficient Parameter Tuning: Grid Search simplifies the process of hyperparameter tuning by allowing you to define a grid of values to search over. The model performance is evaluated for each combination of hyperparameters, providing insights into which set of hyperparameters works best for your model.\n",
        "\n",
        "Automated Parameter Selection: Instead of manually tuning hyperparameters, Grid Search automates this process by systematically testing different combinations. This saves time and effort that would otherwise be spent on trial-and-error manual tuning.\n",
        "\n",
        "Optimizing Model Performance: By selecting the best hyperparameters through Grid Search Cross-Validation, you can improve your model's performance metrics, such as accuracy, precision, recall, or other relevant evaluation metrics.\n",
        "\n",
        "Robustness and Stability: The use of cross-validation adds robustness to the hyperparameter tuning process. It ensures that the model's performance is consistent across different subsets of the data, thereby reducing the risk of selecting hyperparameters that work well only for a specific dataset split."
      ],
      "metadata": {
        "id": "negyGRa7fxKf"
      }
    },
    {
      "cell_type": "code",
      "source": [
        "# Perform Grid Search Cross-Validation for Hyperparameter Tuning\n",
        "grid_search = GridSearchCV(kmeans, param_grid, cv=5, scoring=silhouette_scorer)\n",
        "grid_search.fit(X)"
      ],
      "metadata": {
        "id": "8_2jnkthi69c"
      },
      "execution_count": null,
      "outputs": []
    },
    {
      "cell_type": "code",
      "source": [
        "best_params = grid_search.best_params_\n",
        "print(\"Best Hyperparameters:\", best_params)"
      ],
      "metadata": {
        "id": "_eJZ2HVVjJiI"
      },
      "execution_count": null,
      "outputs": []
    },
    {
      "cell_type": "code",
      "source": [
        "\n",
        "best_kmeans = grid_search.best_estimator_\n",
        "best_kmeans.fit(X)"
      ],
      "metadata": {
        "id": "70dtVrOLjN72"
      },
      "execution_count": null,
      "outputs": []
    },
    {
      "cell_type": "code",
      "source": [
        "\n",
        "# Print the updated Silhouette Score\n",
        "print(\"Average Silhouette Score with Cross-Validation:\", average_silhouette_score)"
      ],
      "metadata": {
        "id": "Zo7gvl-jjSVp"
      },
      "execution_count": null,
      "outputs": []
    },
    {
      "cell_type": "code",
      "source": [
        "import matplotlib.pyplot as plt\n",
        "import seaborn as sns\n",
        "\n",
        "# Visualize clustering results with tuned hyperparameters\n",
        "plt.figure(figsize=(10, 8))\n",
        "sns.scatterplot(x=X[:, 0], y=X[:, 1], hue=best_kmeans.labels_, palette='viridis', legend='full')\n",
        "plt.scatter(best_kmeans.cluster_centers_[:, 0], best_kmeans.cluster_centers_[:, 1], c='red', marker='x', s=100, label='Centroids')\n",
        "plt.title(\"K-Means Clustering with Tuned Hyperparameters\")\n",
        "plt.xlabel(\"release_year\")\n",
        "plt.ylabel(\"duration_min\")\n",
        "plt.legend(title='Cluster')\n",
        "plt.show()"
      ],
      "metadata": {
        "id": "E_yXokkmjby_"
      },
      "execution_count": null,
      "outputs": []
    },
    {
      "cell_type": "markdown",
      "source": [
        "##### Have you seen any improvement? Note down the improvement with updates Evaluation metric Score Chart.\n"
      ],
      "metadata": {
        "id": "TfvqoZmBfxKf"
      }
    },
    {
      "cell_type": "markdown",
      "source": [
        "Answer Here.\n",
        "\n",
        "Evaluation Metric Score Chart:\n",
        "Model\tSilhouette Score\n",
        "Initial Model (before tuning)\t0.3970\n",
        "After Hyperparameter Tuning\t0.3694\n",
        "The Evaluation Metric Score Chart shows a change in the silhouette score from 0.3970 in the initial model to 0.3694 after hyperparameter tuning. The divergence between these scores indicates a slight decrease in clustering performance post-optimization. While the initial model exhibited a higher silhouette score, further tuning may be necessary to improve the clustering quality accurately.\n",
        "\n",
        "Analyzing these updated scores provides insight into the effect of hyperparameter optimization on the model's clustering effectiveness, informing subsequent steps for refinement and potential enhancements to achieve higher clustering performance. Iteratively fine-tuning the model with different settings and strategies can help elevate the silhouette score and bolster the overall clustering capabilities."
      ],
      "metadata": {
        "id": "OaLui8CcfxKf"
      }
    },
    {
      "cell_type": "markdown",
      "source": [
        "### ML Model - 2"
      ],
      "metadata": {
        "id": "dJ2tPlVmpsJ0"
      }
    },
    {
      "cell_type": "markdown",
      "source": [
        "#### 1. Explain the ML Model used and it's performance using Evaluation metric Score Chart."
      ],
      "metadata": {
        "id": "JWYfwnehpsJ1"
      }
    },
    {
      "cell_type": "code",
      "source": [
        "from sklearn.cluster import KMeans\n",
        "from sklearn.datasets import make_blobs\n",
        "from sklearn.model_selection import RandomizedSearchCV\n",
        "import numpy as np\n",
        "\n",
        "# Create sample data for clustering\n",
        "X, _ = make_blobs(n_samples=1000, n_features=2, centers=3, cluster_std=1.0, random_state=42)\n",
        "\n",
        "# Define the parameters to search over using RandomizedSearchCV\n",
        "param_dist = {\n",
        "    'n_clusters': np.arange(2, 6),  # Number of clusters\n",
        "    'init': ['k-means++', 'random'],  # Initialization method\n",
        "    'max_iter': np.arange(100, 500)  # Maximum number of iterations\n",
        "}\n",
        "\n",
        "# Initialize K-Means model\n",
        "kmeans = KMeans(random_state=42)\n",
        "\n",
        "# Perform RandomizedSearchCV for hyperparameter tuning\n",
        "random_search = RandomizedSearchCV(kmeans, param_distributions=param_dist, n_iter=10, cv=5)\n",
        "random_search.fit(X)\n",
        "\n",
        "# Get the best K-Means model with tuned hyperparameters\n",
        "best_kmeans = random_search.best_estimator_\n",
        "best_kmeans.fit(X)"
      ],
      "metadata": {
        "id": "N9ogVPep_EGD"
      },
      "execution_count": null,
      "outputs": []
    },
    {
      "cell_type": "code",
      "source": [
        "import matplotlib.pyplot as plt\n",
        "import seaborn as sns\n",
        "\n",
        "# Visualizing the clustering results with updated hyperparameters\n",
        "plt.figure(figsize=(8, 6))\n",
        "sns.scatterplot(x=X[:, 0], y=X[:, 1], hue=best_kmeans_random.labels_, palette='viridis')\n",
        "plt.scatter(best_kmeans_random.cluster_centers_[:, 0], best_kmeans_random.cluster_centers_[:, 1], c='red', marker='x', s=100)\n",
        "plt.title(\"K-Means Clustering with Randomized Search Hyperparameters\")\n",
        "plt.xlabel(\"release_year\")\n",
        "plt.ylabel(\"duration_min\")\n",
        "plt.legend(title='Cluster')\n",
        "plt.show()"
      ],
      "metadata": {
        "id": "CbodDWxt_Ix2"
      },
      "execution_count": null,
      "outputs": []
    },
    {
      "cell_type": "markdown",
      "source": [
        "#### 2. Cross- Validation & Hyperparameter Tuning"
      ],
      "metadata": {
        "id": "-jK_YjpMpsJ2"
      }
    },
    {
      "cell_type": "code",
      "source": [
        "from sklearn.cluster import KMeans\n",
        "from sklearn.model_selection import RandomizedSearchCV\n",
        "from scipy.stats import randint\n",
        "from sklearn.metrics import silhouette_score\n",
        "import numpy as np\n",
        "\n",
        "# Define a custom scorer to handle non-finite scores\n",
        "def safe_silhouette_scorer(estimator, X):\n",
        "    try:\n",
        "        score = silhouette_score(X, estimator.labels_)\n",
        "        return score if not np.isnan(score) else 0.0\n",
        "    except:\n",
        "        return 0.0\n",
        "\n",
        "# Initialize K-Means model\n",
        "kmeans = KMeans(random_state=42)\n",
        "\n",
        "# Define parameter grid for RandomizedSearchCV\n",
        "param_dist = {\n",
        "    'n_clusters': randint(2, 10),  # Number of clusters\n",
        "    'init': ['k-means++', 'random'],  # Method for initialization\n",
        "    'max_iter': randint(100, 1000)  # Maximum number of iterations\n",
        "}\n",
        "\n",
        "# Perform Randomized Search with Cross-Validation for Hyperparameter Tuning\n",
        "random_search = RandomizedSearchCV(kmeans, param_distributions=param_dist, n_iter=10, cv=5, scoring=safe_silhouette_scorer)\n",
        "random_search.fit(X)  # X is your unsupervised data\n",
        "\n",
        "# Extract the best K-Means model with tuned hyperparameters\n",
        "best_kmeans = random_search.best_estimator_\n",
        "\n",
        "# Fit the best model with the optimal hyperparameters\n",
        "best_kmeans.fit(X)\n",
        "\n",
        "# Compute silhouette score to evaluate the model\n",
        "silhouette_score_best = silhouette_score(X, best_kmeans.labels_)\n",
        "#print(score)\n",
        "print(\"Best Silhouette Score:\", silhouette_score_best)"
      ],
      "metadata": {
        "id": "8YYgLoqVLMiJ"
      },
      "execution_count": null,
      "outputs": []
    },
    {
      "cell_type": "code",
      "source": [
        "import matplotlib.pyplot as plt\n",
        "import seaborn as sns\n",
        "\n",
        "# Visualizing the clustering results with updated hyperparameters\n",
        "plt.figure(figsize=(8, 6))\n",
        "sns.scatterplot(x=X[:, 0], y=X[:, 1], hue=best_kmeans.labels_, palette='viridis')\n",
        "plt.scatter(best_kmeans.cluster_centers_[:, 0], best_kmeans.cluster_centers_[:, 1], c='red', marker='x', s=100, label='Centroids')\n",
        "plt.title(\"K-Means Clustering with Optimized Hyperparameters\")\n",
        "plt.xlabel(\"release_year\")\n",
        "plt.ylabel(\"duration_min\")\n",
        "plt.legend(title='Cluster')\n",
        "plt.show()"
      ],
      "metadata": {
        "id": "bmYuI1pILRyM"
      },
      "execution_count": null,
      "outputs": []
    },
    {
      "cell_type": "code",
      "source": [
        "# Print the silhouette score with the best model\n",
        "best_labels = best_kmeans.labels_\n",
        "silhouette_avg = silhouette_score(X, best_labels)\n",
        "print(\"Best Silhouette Score:\", silhouette_avg)"
      ],
      "metadata": {
        "id": "J00zEFfPLh4V"
      },
      "execution_count": null,
      "outputs": []
    },
    {
      "cell_type": "markdown",
      "source": [
        "##### Which hyperparameter optimization technique have you used and why?"
      ],
      "metadata": {
        "id": "HAih1iBOpsJ2"
      }
    },
    {
      "cell_type": "markdown",
      "source": [
        "Answer Here.\n",
        "\n",
        "1) RandomizedSearchCV\n",
        "\n",
        "RandomizedSearchCV is used for hyperparameter tuning in machine learning models due to the following reasons:\n",
        "\n",
        "Efficiency: Randomized search explores the hyperparameter space more efficiently than GridSearchCV. Instead of trying out all possible combinations, it randomly selects a subset of parameter combinations. This is particularly useful when the hyperparameter space is large.\n",
        "\n",
        "Scalability: Randomized search is more scalable and computationally efficient than GridSearchCV, especially for models with a large number of hyperparameters.\n",
        "\n",
        "Exploration: Randomized search allows for exploring a wide range of hyperparameter combinations, making it useful for discovering potential optimal settings that might not be considered with a grid search approach."
      ],
      "metadata": {
        "id": "9kBgjYcdpsJ2"
      }
    },
    {
      "cell_type": "markdown",
      "source": [
        "##### Have you seen any improvement? Note down the improvement with updates Evaluation metric Score Chart."
      ],
      "metadata": {
        "id": "zVGeBEFhpsJ2"
      }
    },
    {
      "cell_type": "markdown",
      "source": [
        "Answer Here.\n",
        "\n",
        "Yes.\n",
        "\n",
        "Metric Score :\n",
        "1) 0.3138\n",
        "\n",
        "2) 0.3370\n",
        "\n",
        "3) 0.8435\n",
        "\n",
        "4) 0.6686\n",
        "\n",
        "5) 0.7052"
      ],
      "metadata": {
        "id": "74yRdG6UpsJ3"
      }
    },
    {
      "cell_type": "markdown",
      "source": [
        "#### 3. Explain each evaluation metric's indication towards business and the business impact pf the ML model used."
      ],
      "metadata": {
        "id": "bmKjuQ-FpsJ3"
      }
    },
    {
      "cell_type": "markdown",
      "source": [
        "Answer Here."
      ],
      "metadata": {
        "id": "BDKtOrBQpsJ3"
      }
    },
    {
      "cell_type": "markdown",
      "source": [
        "### ML Model - 3"
      ],
      "metadata": {
        "id": "Fze-IPXLpx6K"
      }
    },
    {
      "cell_type": "code",
      "source": [
        "# ML Model - 3 Implementation\n",
        "\n",
        "# Fit the Algorithm\n",
        "\n",
        "# Predict on the model"
      ],
      "metadata": {
        "id": "FFrSXAtrpx6M"
      },
      "execution_count": null,
      "outputs": []
    },
    {
      "cell_type": "markdown",
      "source": [
        "#### 1. Explain the ML Model used and it's performance using Evaluation metric Score Chart."
      ],
      "metadata": {
        "id": "7AN1z2sKpx6M"
      }
    },
    {
      "cell_type": "code",
      "source": [
        "# Visualizing evaluation Metric Score chart"
      ],
      "metadata": {
        "id": "xIY4lxxGpx6M"
      },
      "execution_count": null,
      "outputs": []
    },
    {
      "cell_type": "markdown",
      "source": [
        "#### 2. Cross- Validation & Hyperparameter Tuning"
      ],
      "metadata": {
        "id": "9PIHJqyupx6M"
      }
    },
    {
      "cell_type": "code",
      "source": [
        "# ML Model - 3 Implementation with hyperparameter optimization techniques (i.e., GridSearch CV, RandomSearch CV, Bayesian Optimization etc.)\n",
        "\n",
        "# Fit the Algorithm\n",
        "\n",
        "# Predict on the model"
      ],
      "metadata": {
        "id": "eSVXuaSKpx6M"
      },
      "execution_count": null,
      "outputs": []
    },
    {
      "cell_type": "markdown",
      "source": [
        "##### Which hyperparameter optimization technique have you used and why?"
      ],
      "metadata": {
        "id": "_-qAgymDpx6N"
      }
    },
    {
      "cell_type": "markdown",
      "source": [
        "Answer Here."
      ],
      "metadata": {
        "id": "lQMffxkwpx6N"
      }
    },
    {
      "cell_type": "markdown",
      "source": [
        "##### Have you seen any improvement? Note down the improvement with updates Evaluation metric Score Chart."
      ],
      "metadata": {
        "id": "Z-hykwinpx6N"
      }
    },
    {
      "cell_type": "markdown",
      "source": [
        "Answer Here."
      ],
      "metadata": {
        "id": "MzVzZC6opx6N"
      }
    },
    {
      "cell_type": "markdown",
      "source": [
        "### 1. Which Evaluation metrics did you consider for a positive business impact and why?"
      ],
      "metadata": {
        "id": "h_CCil-SKHpo"
      }
    },
    {
      "cell_type": "markdown",
      "source": [
        "Answer Here."
      ],
      "metadata": {
        "id": "jHVz9hHDKFms"
      }
    },
    {
      "cell_type": "markdown",
      "source": [
        "### 2. Which ML model did you choose from the above created models as your final prediction model and why?"
      ],
      "metadata": {
        "id": "cBFFvTBNJzUa"
      }
    },
    {
      "cell_type": "markdown",
      "source": [
        "Answer Here."
      ],
      "metadata": {
        "id": "6ksF5Q1LKTVm"
      }
    },
    {
      "cell_type": "markdown",
      "source": [
        "### 3. Explain the model which you have used and the feature importance using any model explainability tool?"
      ],
      "metadata": {
        "id": "HvGl1hHyA_VK"
      }
    },
    {
      "cell_type": "markdown",
      "source": [
        "Answer Here."
      ],
      "metadata": {
        "id": "YnvVTiIxBL-C"
      }
    },
    {
      "cell_type": "markdown",
      "source": [
        "## ***8.*** ***Future Work (Optional)***"
      ],
      "metadata": {
        "id": "EyNgTHvd2WFk"
      }
    },
    {
      "cell_type": "markdown",
      "source": [
        "### 1. Save the best performing ml model in a pickle file or joblib file format for deployment process.\n"
      ],
      "metadata": {
        "id": "KH5McJBi2d8v"
      }
    },
    {
      "cell_type": "code",
      "source": [
        "# Save the File"
      ],
      "metadata": {
        "id": "bQIANRl32f4J"
      },
      "execution_count": null,
      "outputs": []
    },
    {
      "cell_type": "markdown",
      "source": [
        "### 2. Again Load the saved model file and try to predict unseen data for a sanity check.\n"
      ],
      "metadata": {
        "id": "iW_Lq9qf2h6X"
      }
    },
    {
      "cell_type": "code",
      "source": [
        "# Load the File and predict unseen data."
      ],
      "metadata": {
        "id": "oEXk9ydD2nVC"
      },
      "execution_count": null,
      "outputs": []
    },
    {
      "cell_type": "markdown",
      "source": [
        "### ***Congrats! Your model is successfully created and ready for deployment on a live server for a real user interaction !!!***"
      ],
      "metadata": {
        "id": "-Kee-DAl2viO"
      }
    },
    {
      "cell_type": "markdown",
      "source": [
        "# **Conclusion**"
      ],
      "metadata": {
        "id": "gCX9965dhzqZ"
      }
    },
    {
      "cell_type": "markdown",
      "source": [
        "Write the conclusion here.\n",
        "\n",
        "Content Overview: The dataset contains information about Netflix content such as movies, TV shows, release dates, genres, and descriptions.\n",
        "\n",
        "Data Quality: It is essential to assess and clean the data for missing values, duplicates, and inconsistencies to ensure the integrity and accuracy of the analysis.\n",
        "\n",
        "Release Trends: Understanding release trends over time can help in identifying patterns and preferences among viewers, assisting in strategic decision-making.\n",
        "\n",
        "Business Insights: Extracting actionable insights from the dataset can aid in content planning, marketing strategies, and overall business decision-making for Netflix.\n",
        "\n",
        "Ensure that specific findings, visualizations, and statistical analyses from your Netflix dataframe analysis are reflected in the conclusion to provide a conclusive summary of your insights and recommendations based on the data exploration and analysis performed."
      ],
      "metadata": {
        "id": "Fjb1IsQkh3yE"
      }
    },
    {
      "cell_type": "markdown",
      "source": [
        "### ***Hurrah! You have successfully completed your Machine Learning Capstone Project !!!***"
      ],
      "metadata": {
        "id": "gIfDvo9L0UH2"
      }
    }
  ]
}